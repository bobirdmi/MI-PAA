{
 "cells": [
  {
   "cell_type": "code",
   "execution_count": 1,
   "metadata": {
    "collapsed": true
   },
   "outputs": [],
   "source": [
    "from geneticalgs import BinaryGA\n",
    "\n",
    "# import pandas as pd\n",
    "import numpy as np\n",
    "import csv\n",
    "import time\n",
    "import pickle\n",
    "\n",
    "import matplotlib.pyplot as plt\n",
    "import matplotlib\n",
    "matplotlib.style.use('ggplot')\n",
    "%matplotlib inline\n",
    "# Make the graphs a bit prettier, and bigger\n",
    "from matplotlib.pylab import rcParams\n",
    "rcParams['figure.figsize'] = 15, 6"
   ]
  },
  {
   "cell_type": "code",
   "execution_count": 22,
   "metadata": {
    "collapsed": true
   },
   "outputs": [],
   "source": [
    "def read_sat(filename):\n",
    "    with open(filename, 'r') as src_file:\n",
    "        counter = 0\n",
    "        clause_list = []\n",
    "\n",
    "        for line in src_file:\n",
    "            elems = line.strip().split(\" \")\n",
    "\n",
    "            if elems[0] == 'p':\n",
    "                num_vars = int(elems[2])\n",
    "                num_clauses = int(elems[-1])\n",
    "\n",
    "                print('num_vars:', num_vars)\n",
    "                print('num_clauses:', num_clauses)\n",
    "                continue\n",
    "\n",
    "            if elems[0] == 'c':\n",
    "                continue\n",
    "\n",
    "            if elems[0] == '%':\n",
    "                break\n",
    "\n",
    "    #         print(elems)\n",
    "            clause = []\n",
    "            # we have 3SAT and so we read three values\n",
    "            for i in range(3):\n",
    "                clause.append(int(elems[i]))\n",
    "#             print(clause)\n",
    "\n",
    "            clause_list.append(clause)\n",
    "            counter += 1\n",
    "\n",
    "        if counter != num_clauses:\n",
    "            raise ValueError('The given amount of clauses is not equal to the specified one.')\n",
    "            \n",
    "        return clause_list"
   ]
  },
  {
   "cell_type": "code",
   "execution_count": 24,
   "metadata": {
    "collapsed": false
   },
   "outputs": [
    {
     "name": "stdout",
     "output_type": "stream",
     "text": [
      "num_vars: 50\n",
      "num_clauses: 218\n"
     ]
    }
   ],
   "source": [
    "path = './data/uf50-218/'\n",
    "filename = 'uf50-01.cnf'\n",
    "\n",
    "sat_clauses = read_sat(path + filename)"
   ]
  },
  {
   "cell_type": "code",
   "execution_count": null,
   "metadata": {
    "collapsed": true
   },
   "outputs": [],
   "source": [
    "BinaryGA()"
   ]
  },
  {
   "cell_type": "code",
   "execution_count": null,
   "metadata": {
    "collapsed": true
   },
   "outputs": [],
   "source": []
  },
  {
   "cell_type": "code",
   "execution_count": null,
   "metadata": {
    "collapsed": true
   },
   "outputs": [],
   "source": []
  },
  {
   "cell_type": "code",
   "execution_count": null,
   "metadata": {
    "collapsed": true
   },
   "outputs": [],
   "source": []
  },
  {
   "cell_type": "code",
   "execution_count": null,
   "metadata": {
    "collapsed": true
   },
   "outputs": [],
   "source": []
  },
  {
   "cell_type": "code",
   "execution_count": null,
   "metadata": {
    "collapsed": true
   },
   "outputs": [],
   "source": []
  },
  {
   "cell_type": "code",
   "execution_count": null,
   "metadata": {
    "collapsed": true
   },
   "outputs": [],
   "source": []
  }
 ],
 "metadata": {
  "anaconda-cloud": {},
  "kernelspec": {
   "display_name": "Python [default]",
   "language": "python",
   "name": "python3"
  },
  "language_info": {
   "codemirror_mode": {
    "name": "ipython",
    "version": 3
   },
   "file_extension": ".py",
   "mimetype": "text/x-python",
   "name": "python",
   "nbconvert_exporter": "python",
   "pygments_lexer": "ipython3",
   "version": "3.5.1"
  }
 },
 "nbformat": 4,
 "nbformat_minor": 1
}
