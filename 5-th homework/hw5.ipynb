{
 "cells": [
  {
   "cell_type": "code",
   "execution_count": 2,
   "metadata": {
    "collapsed": true
   },
   "outputs": [],
   "source": [
    "from geneticalgs import BinaryGA\n",
    "\n",
    "import random\n",
    "\n",
    "# import pandas as pd\n",
    "import numpy as np\n",
    "import csv\n",
    "import time\n",
    "import pickle\n",
    "\n",
    "import matplotlib.pyplot as plt\n",
    "import matplotlib\n",
    "matplotlib.style.use('ggplot')\n",
    "%matplotlib inline\n",
    "# Make the graphs a bit prettier, and bigger\n",
    "from matplotlib.pylab import rcParams\n",
    "rcParams['figure.figsize'] = 15, 6"
   ]
  },
  {
   "cell_type": "code",
   "execution_count": 21,
   "metadata": {
    "collapsed": true
   },
   "outputs": [],
   "source": [
    "def generate_diff_weights(n):\n",
    "    \"\"\"Generates different random integers from interval (1, 5*n + 1).\"\"\"\n",
    "    interval = (1, 5*n)\n",
    "    \n",
    "    random_number = random.randrange(interval[0], interval[1])\n",
    "    used_values = [random_number]\n",
    "\n",
    "    for i in range(1, n):\n",
    "        while random_number in used_values:\n",
    "            random_number = random.randrange(interval[0], interval[1])\n",
    "\n",
    "        used_values.append(random_number)\n",
    "\n",
    "    return used_values\n",
    "\n",
    "def generate_weights(n):\n",
    "    \"\"\"Generates random integers (possible with duplicates) from interval (1, 5*n + 1).\"\"\"\n",
    "    interval = (1, 5*n)\n",
    "    w = []\n",
    "    \n",
    "    for i in range(n):\n",
    "        w.append(random.randrange(interval[0], interval[1]))\n",
    "        \n",
    "    return w\n",
    "\n",
    "def read_sat(filename):\n",
    "    with open(filename, 'r') as src_file:\n",
    "        counter = 0\n",
    "        clause_list = []\n",
    "\n",
    "        for line in src_file:\n",
    "            elems = line.strip().split(\" \")\n",
    "\n",
    "            if elems[0] == 'p':\n",
    "                num_vars = int(elems[2])\n",
    "                num_clauses = int(elems[-1])\n",
    "\n",
    "#                 print('num_vars:', num_vars)\n",
    "#                 print('num_clauses:', num_clauses)\n",
    "                continue\n",
    "\n",
    "            if elems[0] == 'c':\n",
    "                continue\n",
    "\n",
    "            if elems[0] == '%':\n",
    "                break\n",
    "\n",
    "    #         print(elems)\n",
    "            clause = []\n",
    "            # we have 3SAT and so we read three values\n",
    "            for i in range(3):\n",
    "                clause.append(int(elems[i]))\n",
    "#             print(clause)\n",
    "\n",
    "            clause_list.append(clause)\n",
    "            counter += 1\n",
    "\n",
    "        if counter != num_clauses:\n",
    "            raise ValueError('The given amount of clauses is not equal to the specified one.')\n",
    "            \n",
    "        return clause_list, num_vars, num_clauses"
   ]
  },
  {
   "cell_type": "code",
   "execution_count": 23,
   "metadata": {
    "collapsed": false
   },
   "outputs": [
    {
     "name": "stdout",
     "output_type": "stream",
     "text": [
      "num_vars: 50\n",
      "num_clauses: 218\n"
     ]
    }
   ],
   "source": [
    "path = './data/uf50-218/'\n",
    "filename = 'uf50-01.cnf'\n",
    "\n",
    "sat_clauses, num_vars, num_clauses = read_sat(path + filename)\n",
    "print('num_vars:', num_vars)\n",
    "print('num_clauses:', num_clauses)\n",
    "\n",
    "# generate weights\n",
    "weights = generate_diff_weights(num_vars)"
   ]
  },
  {
   "cell_type": "code",
   "execution_count": 35,
   "metadata": {
    "collapsed": false
   },
   "outputs": [],
   "source": [
    "def fitness_func(chromosome, data):\n",
    "    score = 0  # amount of satisfied clauses\n",
    "    active_vars = [data[idx] for idx in chromosome]  # vars evaluated to 1\n",
    "    \n",
    "    for clause in sat_clauses:\n",
    "        evaluated = False\n",
    "        \n",
    "        for elem in clause:\n",
    "            if not evaluated:\n",
    "                if elem < 0 and abs(elem) not in active_vars:\n",
    "                    score += 1\n",
    "                    evaluated = True\n",
    "                elif elem > 0 and abs(elem) in active_vars:\n",
    "                    score += 1\n",
    "                    evaluated = True\n",
    "            else:\n",
    "                break\n",
    "                \n",
    "#     print(score)\n",
    "    sol_weight = 0\n",
    "    if score == num_clauses:\n",
    "        for var in active_vars:\n",
    "            sol_weight += weights[var - 1]\n",
    "            \n",
    "    return score + sol_weight"
   ]
  },
  {
   "cell_type": "code",
   "execution_count": 36,
   "metadata": {
    "collapsed": true
   },
   "outputs": [],
   "source": [
    "optim = 'max'\n",
    "elitism = True\n",
    "input_data = list(range(1, num_vars + 1))\n",
    "\n",
    "pop_size = 10000\n",
    "r_sel = 'rank'\n",
    "t_sel = 'tournament'\n",
    "# tournament size\n",
    "# whole population = pop_size * 3 -> this size will be adjusted to population size\n",
    "t_size = [pop_size * 0.2, pop_size * 0.4, pop_size * 0.6, pop_size * 0.8, pop_size * 3]\n",
    "mut_prob = 0.05\n",
    "mut_type = 1\n",
    "cross_prob = 0.95\n",
    "cross_type = 1"
   ]
  },
  {
   "cell_type": "code",
   "execution_count": 37,
   "metadata": {
    "collapsed": true
   },
   "outputs": [],
   "source": [
    "rank_ga = BinaryGA(input_data, fitness_func, optim=optim, selection=r_sel, \n",
    "                   mut_prob=mut_prob, mut_type=mut_type, \n",
    "                   cross_prob=cross_prob, cross_type=cross_type, \n",
    "                   elitism=elitism)\n",
    "\n",
    "tour_ga = []\n",
    "for size in t_size:\n",
    "    tour_ga.append(BinaryGA(input_data, fitness_func, optim=optim, selection=t_sel, \n",
    "                            mut_prob=mut_prob, mut_type=mut_type, \n",
    "                            cross_prob=cross_prob, cross_type=cross_type, \n",
    "                            elitism=elitism, \n",
    "                            tournament_size=size))"
   ]
  },
  {
   "cell_type": "code",
   "execution_count": null,
   "metadata": {
    "collapsed": false
   },
   "outputs": [],
   "source": [
    "rank_ga.init_random_population(pop_size)\n",
    "\n",
    "for i in range(len(t_size)):\n",
    "    tour_ga[i].init_random_population(pop_size)"
   ]
  },
  {
   "cell_type": "code",
   "execution_count": null,
   "metadata": {
    "collapsed": true
   },
   "outputs": [],
   "source": []
  },
  {
   "cell_type": "code",
   "execution_count": null,
   "metadata": {
    "collapsed": true
   },
   "outputs": [],
   "source": []
  },
  {
   "cell_type": "code",
   "execution_count": null,
   "metadata": {
    "collapsed": true
   },
   "outputs": [],
   "source": []
  }
 ],
 "metadata": {
  "anaconda-cloud": {},
  "kernelspec": {
   "display_name": "Python [default]",
   "language": "python",
   "name": "python3"
  },
  "language_info": {
   "codemirror_mode": {
    "name": "ipython",
    "version": 3
   },
   "file_extension": ".py",
   "mimetype": "text/x-python",
   "name": "python",
   "nbconvert_exporter": "python",
   "pygments_lexer": "ipython3",
   "version": "3.5.1"
  }
 },
 "nbformat": 4,
 "nbformat_minor": 1
}
