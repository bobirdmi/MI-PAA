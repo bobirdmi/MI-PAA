{
 "cells": [
  {
   "cell_type": "markdown",
   "metadata": {},
   "source": [
    "# Import"
   ]
  },
  {
   "cell_type": "code",
   "execution_count": 2,
   "metadata": {
    "collapsed": true
   },
   "outputs": [],
   "source": [
    "from geneticalgs import BinaryGA\n",
    "\n",
    "import random\n",
    "\n",
    "# import pandas as pd\n",
    "import numpy as np\n",
    "import csv\n",
    "import time\n",
    "import pickle\n",
    "\n",
    "import matplotlib.pyplot as plt\n",
    "import matplotlib\n",
    "matplotlib.style.use('ggplot')\n",
    "%matplotlib inline\n",
    "# Make the graphs a bit prettier, and bigger\n",
    "from matplotlib.pylab import rcParams\n",
    "rcParams['figure.figsize'] = 15, 6"
   ]
  },
  {
   "cell_type": "markdown",
   "metadata": {},
   "source": [
    "# Common function definition"
   ]
  },
  {
   "cell_type": "code",
   "execution_count": 263,
   "metadata": {
    "collapsed": true
   },
   "outputs": [],
   "source": [
    "def save_to_pickle_file(obj, name):\n",
    "    with open(name + '.pkl', 'wb') as f:\n",
    "        pickle.dump(obj, f, pickle.HIGHEST_PROTOCOL)\n",
    "\n",
    "def load_pickle_file(name):\n",
    "    with open(name + '.pkl', 'rb') as f:\n",
    "        return pickle.load(f)\n",
    "\n",
    "def generate_diff_weights(n):\n",
    "    \"\"\"Generates different random integers from interval (1, 5*n + 1).\"\"\"\n",
    "    interval = (1, 5*n)\n",
    "    \n",
    "    random_number = random.randrange(interval[0], interval[1])\n",
    "    used_values = [random_number]\n",
    "\n",
    "    for i in range(1, n):\n",
    "        while random_number in used_values:\n",
    "            random_number = random.randrange(interval[0], interval[1])\n",
    "\n",
    "        used_values.append(random_number)\n",
    "\n",
    "    return used_values\n",
    "\n",
    "def generate_weights(n):\n",
    "    \"\"\"Generates random integers (possible with duplicates) from interval (1, 5*n + 1).\"\"\"\n",
    "    interval = (1, 5*n)\n",
    "    w = []\n",
    "    \n",
    "    for i in range(n):\n",
    "        w.append(random.randrange(interval[0], interval[1]))\n",
    "        \n",
    "    return w\n",
    "\n",
    "def read_sat(filename, max_num):\n",
    "    with open(filename, 'r') as src_file:\n",
    "        counter = 0\n",
    "        clause_list = []\n",
    "\n",
    "        for line in src_file:\n",
    "            if counter > max_num:\n",
    "                break\n",
    "            \n",
    "            elems = line.strip().split(\" \")\n",
    "\n",
    "            if elems[0] == 'p':\n",
    "                num_vars = int(elems[2])\n",
    "                num_clauses = int(elems[-1])\n",
    "\n",
    "#                 print('num_vars:', num_vars)\n",
    "#                 print('num_clauses:', num_clauses)\n",
    "                continue\n",
    "\n",
    "            if elems[0] == 'c':\n",
    "                continue\n",
    "\n",
    "            if elems[0] == '%':\n",
    "                break\n",
    "\n",
    "    #         print(elems)\n",
    "            clause = []\n",
    "            # we have 3SAT and so we read three values\n",
    "            for i in range(3):\n",
    "                clause.append(int(elems[i]))\n",
    "#             print(clause)\n",
    "\n",
    "            clause_list.append(clause)\n",
    "            counter += 1\n",
    "\n",
    "#         if counter != num_clauses:\n",
    "#             raise ValueError('The given amount of clauses is not equal to the specified one.')\n",
    "            \n",
    "        return clause_list, num_vars, counter - 1"
   ]
  },
  {
   "cell_type": "markdown",
   "metadata": {},
   "source": [
    "# Read 3SAT in DIMACS CNF format"
   ]
  },
  {
   "cell_type": "code",
   "execution_count": 95,
   "metadata": {
    "collapsed": false
   },
   "outputs": [
    {
     "name": "stdout",
     "output_type": "stream",
     "text": [
      "num_vars: 50\n",
      "num_clauses: 200\n"
     ]
    }
   ],
   "source": [
    "path = './data/uf50-218/'\n",
    "filename = 'uf50-01.cnf'\n",
    "\n",
    "sat_clauses, num_vars, num_clauses = read_sat(path + filename, 50*4)\n",
    "print('num_vars:', num_vars)\n",
    "print('num_clauses:', num_clauses)\n",
    "\n",
    "# generate weights\n",
    "weights = generate_diff_weights(num_vars)"
   ]
  },
  {
   "cell_type": "markdown",
   "metadata": {},
   "source": [
    "# Save to or load from a file with generated weights"
   ]
  },
  {
   "cell_type": "code",
   "execution_count": 264,
   "metadata": {
    "collapsed": true
   },
   "outputs": [],
   "source": [
    "# you may save or load generated weights\n",
    "result_file = 'weights'\n",
    "\n",
    "# save_to_pickle_file(weights, result_file)\n",
    "# weights = load_pickle_file(result_file)"
   ]
  },
  {
   "cell_type": "markdown",
   "metadata": {},
   "source": [
    "# Define fitness function and helper function for evaluating performance"
   ]
  },
  {
   "cell_type": "markdown",
   "metadata": {},
   "source": [
    "This fitness function uses values readed from 3SAT."
   ]
  },
  {
   "cell_type": "code",
   "execution_count": 170,
   "metadata": {
    "collapsed": false
   },
   "outputs": [],
   "source": [
    "def fitness_func(chromosome, data):\n",
    "    score = 0  # amount of satisfied clauses\n",
    "    active_vars = [data[idx] for idx in chromosome]  # vars evaluated to 1\n",
    "    \n",
    "    for clause in sat_clauses:\n",
    "        evaluated = False\n",
    "        \n",
    "        for elem in clause:\n",
    "            if not evaluated:\n",
    "                if elem < 0 and abs(elem) not in active_vars:\n",
    "                    score += 1\n",
    "                    evaluated = True\n",
    "                elif elem > 0 and abs(elem) in active_vars:\n",
    "                    score += 1\n",
    "                    evaluated = True\n",
    "            else:\n",
    "                break\n",
    "                \n",
    "#     print(score)\n",
    "    sol_weight = 0\n",
    "    if score == num_clauses:\n",
    "        for var in active_vars:\n",
    "            sol_weight += weights[var - 1]\n",
    "            \n",
    "    return score + sol_weight\n",
    "\n",
    "def get_amount_of_solutions(population, already_found):\n",
    "    # in case of fitness maximization\n",
    "    sol_num = 0\n",
    "#     already_found = []\n",
    "    \n",
    "    for i in range(-1, -len(population) - 1, -1):\n",
    "        if population[i].fitness_val >= num_clauses:\n",
    "            sorted_chromosome = list(population[i].chromosome)\n",
    "            sorted_chromosome.sort()\n",
    "#             print(10*'=')\n",
    "#             print('already found:', already_found)\n",
    "#             print('fitness:', population[i].fitness_val)\n",
    "#             print('chromosome:', population[i].chromosome)\n",
    "#             print('sorted chromosome:', sorted_chromosome)\n",
    "            \n",
    "            if sorted_chromosome not in already_found:\n",
    "                already_found.append(sorted_chromosome)\n",
    "                sol_num += 1\n",
    "        else:\n",
    "            break\n",
    "            \n",
    "    return sol_num, already_found"
   ]
  },
  {
   "cell_type": "markdown",
   "metadata": {},
   "source": [
    "# Default GA parameters"
   ]
  },
  {
   "cell_type": "code",
   "execution_count": 296,
   "metadata": {
    "collapsed": true
   },
   "outputs": [],
   "source": [
    "optim = 'max'\n",
    "elitism = True\n",
    "input_data = list(range(1, num_vars + 1))\n",
    "\n",
    "pop_size = 1000\n",
    "r_sel = 'rank'\n",
    "t_sel = 'tournament'\n",
    "# tournament size\n",
    "# whole population = pop_size * 3 -> this size will be adjusted to population size\n",
    "t_size = [int(pop_size * 0.2), int(pop_size * 0.4), int(pop_size * 0.6), int(pop_size * 0.8), pop_size * 3]\n",
    "mut_prob = 0 # 0.05\n",
    "mut_type = 1\n",
    "cross_prob = 1 # 0.95\n",
    "cross_type = 1\n",
    "\n",
    "generations = 20"
   ]
  },
  {
   "cell_type": "markdown",
   "metadata": {},
   "source": [
    "# Function for running experiments"
   ]
  },
  {
   "cell_type": "markdown",
   "metadata": {},
   "source": [
    "Body of this function (namely GA parameters) must be modified according to currently testing parameters. GA parameters are replaced with the best found values step by step."
   ]
  },
  {
   "cell_type": "code",
   "execution_count": 307,
   "metadata": {
    "collapsed": true
   },
   "outputs": [],
   "source": [
    "def run_experiment(iter_num, gen_num, test_elems):\n",
    "    \"\"\"It is necessary to replace test parameter with the given test_elems\"\"\"\n",
    "    result_found = [[] for x in test_elems]\n",
    "    test_elem_num = len(test_elems)\n",
    "    \n",
    "    for it in range(iter_num):\n",
    "        ga_mp = [[] for x in test_elems]\n",
    "\n",
    "        for i in range(test_elem_num):\n",
    "            ga_mp[i] = BinaryGA(input_data, fitness_func, optim=optim, selection='rank', \n",
    "                                mut_prob=0.01, mut_type=1, \n",
    "                                cross_prob=0.8, cross_type=3, \n",
    "                                elitism=elitism, tournament_size=None)\n",
    "            ga_mp[i].init_random_population(2000)\n",
    "\n",
    "        sols_mp = [[] for i in test_elems]\n",
    "        already_found_mp = [[] for i in test_elems]\n",
    "\n",
    "        for j in range(test_elem_num):\n",
    "            sol_num, new_found_mp = get_amount_of_solutions(ga_mp[j].population, already_found_mp[j])\n",
    "            already_found_mp[j] = list(new_found_mp)\n",
    "            sols_mp[j].append(sol_num)\n",
    "\n",
    "        for i in range(gen_num):\n",
    "            for j in range(test_elem_num):\n",
    "                ga_mp[j].run(1)\n",
    "\n",
    "                sol_num, new_found_mp = get_amount_of_solutions(ga_mp[j].population, already_found_mp[j])\n",
    "                already_found_mp[j] = list(new_found_mp)\n",
    "                sols_mp[j].append(sol_num)\n",
    "\n",
    "        for i in range(test_elem_num):\n",
    "            result_found[i].append(len(already_found_mp[i]))\n",
    "            \n",
    "    return result_found"
   ]
  },
  {
   "cell_type": "markdown",
   "metadata": {},
   "source": [
    "# Experiments"
   ]
  },
  {
   "cell_type": "markdown",
   "metadata": {},
   "source": [
    "## Mutation probability"
   ]
  },
  {
   "cell_type": "code",
   "execution_count": 208,
   "metadata": {
    "collapsed": true
   },
   "outputs": [],
   "source": [
    "# mut_prob = [0.01, 0.05, 0.1, 0.15, 0.20]\n",
    "# mut_prob = [0.008, 0.01, 0.012, 0.13, 0.15, 0.17]\n",
    "mut_prob = [0.01, 0.15, 0.16, 0.17, 0.18]\n",
    "iterations = 10"
   ]
  },
  {
   "cell_type": "code",
   "execution_count": 209,
   "metadata": {
    "collapsed": true
   },
   "outputs": [],
   "source": [
    "result_found = run_experiment(iterations, generations, mut_prob)"
   ]
  },
  {
   "cell_type": "code",
   "execution_count": 216,
   "metadata": {
    "collapsed": false
   },
   "outputs": [
    {
     "name": "stdout",
     "output_type": "stream",
     "text": [
      "0.01 = 4.4 [1, 2, 3, 0, 0, 4, 23, 0, 0, 11]\n",
      "0.15 = 0.3 [0, 0, 0, 0, 1, 1, 1, 0, 0, 0]\n",
      "0.16 = 0.4 [0, 0, 0, 0, 0, 3, 0, 0, 0, 1]\n",
      "0.17 = 1.5 [0, 3, 0, 3, 0, 0, 1, 8, 0, 0]\n",
      "0.18 = 2.0 [0, 0, 0, 0, 7, 0, 5, 0, 3, 5]\n"
     ]
    }
   ],
   "source": [
    "for i in range(len(mut_prob)):\n",
    "    print(mut_prob[i], '=', np.mean(result_found[i]), result_found[i])"
   ]
  },
  {
   "cell_type": "markdown",
   "metadata": {},
   "source": [
    "## Mutation type"
   ]
  },
  {
   "cell_type": "code",
   "execution_count": 229,
   "metadata": {
    "collapsed": true
   },
   "outputs": [],
   "source": [
    "# mut_type = [1, 2, 4, 6, 8, 10]\n",
    "mut_type = [1, 5, 6, 7]\n",
    "iterations = 10"
   ]
  },
  {
   "cell_type": "code",
   "execution_count": 230,
   "metadata": {
    "collapsed": false
   },
   "outputs": [],
   "source": [
    "result_found = run_experiment(iterations, generations, mut_type)"
   ]
  },
  {
   "cell_type": "code",
   "execution_count": 231,
   "metadata": {
    "collapsed": false
   },
   "outputs": [
    {
     "name": "stdout",
     "output_type": "stream",
     "text": [
      "1 = 5.5 [1, 0, 0, 0, 34, 4, 4, 3, 8, 1]\n",
      "5 = 1.6 [2, 0, 0, 0, 1, 0, 0, 11, 2, 0]\n",
      "6 = 2.8 [0, 5, 5, 0, 6, 4, 1, 1, 4, 2]\n",
      "7 = 1.9 [0, 0, 3, 0, 4, 3, 3, 4, 0, 2]\n"
     ]
    }
   ],
   "source": [
    "for i in range(len(mut_type)):\n",
    "    print(mut_type[i], '=', np.mean(result_found[i]), result_found[i])"
   ]
  },
  {
   "cell_type": "markdown",
   "metadata": {},
   "source": [
    "## Crossover probability"
   ]
  },
  {
   "cell_type": "code",
   "execution_count": 252,
   "metadata": {
    "collapsed": true
   },
   "outputs": [],
   "source": [
    "# cross_prob = [0.7, 0.75, 0.8, 0.85, 0.9, 0.95, 0.97]\n",
    "cross_prob = [0.73, 0.75, 0.77, 0.79, 0.8, 0.82]\n",
    "iterations = 10"
   ]
  },
  {
   "cell_type": "code",
   "execution_count": 253,
   "metadata": {
    "collapsed": false
   },
   "outputs": [],
   "source": [
    "result_found = run_experiment(iterations, generations, cross_prob)"
   ]
  },
  {
   "cell_type": "code",
   "execution_count": 255,
   "metadata": {
    "collapsed": false
   },
   "outputs": [
    {
     "name": "stdout",
     "output_type": "stream",
     "text": [
      "0.73 = 2.1 [1, 0, 0, 0, 0, 2, 0, 13, 2, 3]\n",
      "0.75 = 3.3 [26, 1, 0, 1, 1, 0, 4, 0, 0, 0]\n",
      "0.77 = 3.0 [1, 3, 0, 7, 0, 0, 10, 8, 1, 0]\n",
      "0.79 = 1.4 [1, 0, 0, 0, 0, 12, 1, 0, 0, 0]\n",
      "0.8 = 4.0 [0, 1, 0, 0, 24, 1, 6, 3, 0, 5]\n",
      "0.82 = 1.3 [5, 0, 0, 0, 3, 2, 0, 3, 0, 0]\n"
     ]
    }
   ],
   "source": [
    "for i in range(len(cross_prob)):\n",
    "    print(cross_prob[i], '=', np.mean(result_found[i]), result_found[i])"
   ]
  },
  {
   "cell_type": "markdown",
   "metadata": {},
   "source": [
    "## Crossover type"
   ]
  },
  {
   "cell_type": "code",
   "execution_count": 266,
   "metadata": {
    "collapsed": true
   },
   "outputs": [],
   "source": [
    "cross_type = [1, 2, 3, 10, 20, 30, 40]\n",
    "iterations = 10"
   ]
  },
  {
   "cell_type": "code",
   "execution_count": 267,
   "metadata": {
    "collapsed": true
   },
   "outputs": [],
   "source": [
    "result_found = run_experiment(iterations, generations, cross_type)"
   ]
  },
  {
   "cell_type": "code",
   "execution_count": 269,
   "metadata": {
    "collapsed": false
   },
   "outputs": [
    {
     "name": "stdout",
     "output_type": "stream",
     "text": [
      "1 = 0.7 [6, 0, 0, 0, 0, 0, 0, 1, 0, 0]\n",
      "2 = 1.0 [0, 2, 1, 0, 0, 4, 2, 1, 0, 0]\n",
      "3 = 2.7 [0, 0, 0, 0, 1, 0, 6, 0, 0, 20]\n",
      "10 = 2.5 [6, 3, 7, 0, 1, 4, 2, 1, 1, 0]\n",
      "20 = 2.1 [0, 1, 11, 1, 3, 2, 2, 0, 0, 1]\n",
      "30 = 4.4 [0, 28, 0, 6, 0, 7, 2, 0, 0, 1]\n",
      "40 = 2.7 [0, 0, 2, 2, 2, 1, 2, 6, 3, 9]\n"
     ]
    }
   ],
   "source": [
    "for i in range(len(cross_type)):\n",
    "    print(cross_type[i], '=', np.mean(result_found[i]), result_found[i])"
   ]
  },
  {
   "cell_type": "markdown",
   "metadata": {},
   "source": [
    "## Selection type"
   ]
  },
  {
   "cell_type": "code",
   "execution_count": 298,
   "metadata": {
    "collapsed": true
   },
   "outputs": [],
   "source": [
    "selection = [r_sel, t_sel]\n",
    "iterations = 10"
   ]
  },
  {
   "cell_type": "code",
   "execution_count": 287,
   "metadata": {
    "collapsed": true
   },
   "outputs": [],
   "source": [
    "result_found = run_experiment(iterations, generations, selection)"
   ]
  },
  {
   "cell_type": "code",
   "execution_count": 288,
   "metadata": {
    "collapsed": false
   },
   "outputs": [
    {
     "name": "stdout",
     "output_type": "stream",
     "text": [
      "rank = 0.3 [0, 0, 1, 2, 0, 0, 0, 0, 0, 0]\n",
      "tournament = 0.0 [0, 0, 0, 0, 0, 0, 0, 0, 0, 0]\n"
     ]
    }
   ],
   "source": [
    "for i in range(len(selection)):\n",
    "    print(selection[i], '=', np.mean(result_found[i]), result_found[i])"
   ]
  },
  {
   "cell_type": "markdown",
   "metadata": {},
   "source": [
    "Change selection parameter in *run_experiment()* to 'tournament', change *tournament_size* and then run the following code"
   ]
  },
  {
   "cell_type": "code",
   "execution_count": null,
   "metadata": {
    "collapsed": false
   },
   "outputs": [],
   "source": [
    "result_found = run_experiment(iterations, generations, t_size)"
   ]
  },
  {
   "cell_type": "code",
   "execution_count": null,
   "metadata": {
    "collapsed": true
   },
   "outputs": [],
   "source": [
    "for i in range(len(selection)):\n",
    "    print(selection[i], '=', np.mean(result_found[i]), result_found[i])"
   ]
  },
  {
   "cell_type": "markdown",
   "metadata": {},
   "source": [
    "## Size of initial population"
   ]
  },
  {
   "cell_type": "code",
   "execution_count": 304,
   "metadata": {
    "collapsed": true
   },
   "outputs": [],
   "source": [
    "pop_size = [500, 1000, 1500, 2000]\n",
    "iterations = 10"
   ]
  },
  {
   "cell_type": "code",
   "execution_count": 305,
   "metadata": {
    "collapsed": false
   },
   "outputs": [],
   "source": [
    "result_found = run_experiment(iterations, generations, pop_size)"
   ]
  },
  {
   "cell_type": "code",
   "execution_count": 306,
   "metadata": {
    "collapsed": false
   },
   "outputs": [
    {
     "name": "stdout",
     "output_type": "stream",
     "text": [
      "500 = 0.1 [0, 0, 0, 0, 0, 1, 0, 0, 0, 0]\n",
      "1000 = 1.3 [0, 0, 0, 0, 2, 0, 0, 10, 1, 0]\n",
      "1500 = 0.8 [0, 6, 0, 0, 0, 1, 0, 1, 0, 0]\n",
      "2000 = 2.9 [14, 6, 0, 0, 5, 0, 0, 0, 0, 4]\n"
     ]
    }
   ],
   "source": [
    "for i in range(len(pop_size)):\n",
    "    print(pop_size[i], '=', np.mean(result_found[i]), result_found[i])"
   ]
  },
  {
   "cell_type": "markdown",
   "metadata": {},
   "source": [
    "# Run experiment for several different instances"
   ]
  },
  {
   "cell_type": "code",
   "execution_count": null,
   "metadata": {
    "collapsed": true
   },
   "outputs": [],
   "source": []
  },
  {
   "cell_type": "code",
   "execution_count": null,
   "metadata": {
    "collapsed": true
   },
   "outputs": [],
   "source": []
  },
  {
   "cell_type": "code",
   "execution_count": null,
   "metadata": {
    "collapsed": true
   },
   "outputs": [],
   "source": []
  },
  {
   "cell_type": "code",
   "execution_count": null,
   "metadata": {
    "collapsed": true
   },
   "outputs": [],
   "source": []
  },
  {
   "cell_type": "code",
   "execution_count": null,
   "metadata": {
    "collapsed": true
   },
   "outputs": [],
   "source": []
  },
  {
   "cell_type": "code",
   "execution_count": null,
   "metadata": {
    "collapsed": true
   },
   "outputs": [],
   "source": []
  },
  {
   "cell_type": "code",
   "execution_count": null,
   "metadata": {
    "collapsed": true
   },
   "outputs": [],
   "source": []
  },
  {
   "cell_type": "code",
   "execution_count": null,
   "metadata": {
    "collapsed": true
   },
   "outputs": [],
   "source": [
    "x = l\n",
    "\n",
    "plt.plot(x, dictn4[40]['cross_prob'][0.3][0], '.', label='crossover prob. = 30%')\n",
    "plt.plot(x, dictn4[40]['cross_prob'][0.6][0], '.', label='crossover prob. = 60%')\n",
    "plt.plot(x, dictn4[40]['cross_prob'][0.95][0], '.', label='crossover prob. = 95%')\n",
    "plt.xlabel('number of generation[int]')\n",
    "plt.ylabel('avg. fitness value of generation [%]')\n",
    "plt.legend(loc='best')\n",
    "plt.title('Dependency between crossover probability and convergence speed')"
   ]
  },
  {
   "cell_type": "code",
   "execution_count": null,
   "metadata": {
    "collapsed": true
   },
   "outputs": [],
   "source": []
  }
 ],
 "metadata": {
  "anaconda-cloud": {},
  "kernelspec": {
   "display_name": "Python [default]",
   "language": "python",
   "name": "python3"
  },
  "language_info": {
   "codemirror_mode": {
    "name": "ipython",
    "version": 3
   },
   "file_extension": ".py",
   "mimetype": "text/x-python",
   "name": "python",
   "nbconvert_exporter": "python",
   "pygments_lexer": "ipython3",
   "version": "3.5.1"
  }
 },
 "nbformat": 4,
 "nbformat_minor": 1
}
