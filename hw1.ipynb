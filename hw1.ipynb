{
 "cells": [
  {
   "cell_type": "code",
   "execution_count": 9,
   "metadata": {
    "collapsed": false
   },
   "outputs": [],
   "source": [
    "import pandas as pd\n",
    "import csv\n",
    "import time"
   ]
  },
  {
   "cell_type": "code",
   "execution_count": 2,
   "metadata": {
    "collapsed": false
   },
   "outputs": [
    {
     "data": {
      "text/plain": [
       "['1', '2', '3', '4', '5', '6', '7', '8']"
      ]
     },
     "execution_count": 2,
     "metadata": {},
     "output_type": "execute_result"
    }
   ],
   "source": [
    "n = 4\n",
    "file = './data/inst/knap_' + str(n) + '.inst.dat'\n",
    "general_headers = ['ID', 'n', 'M']\n",
    "all_headers = general_headers + [str(x) for x in range(1, 2*n + 1)]\n",
    "used_cols = all_headers[3:]\n",
    "\n",
    "all_headers\n",
    "used_cols"
   ]
  },
  {
   "cell_type": "code",
   "execution_count": 3,
   "metadata": {
    "collapsed": false
   },
   "outputs": [
    {
     "data": {
      "text/html": [
       "<div>\n",
       "<table border=\"1\" class=\"dataframe\">\n",
       "  <thead>\n",
       "    <tr style=\"text-align: right;\">\n",
       "      <th></th>\n",
       "      <th>1</th>\n",
       "      <th>2</th>\n",
       "      <th>3</th>\n",
       "      <th>4</th>\n",
       "      <th>5</th>\n",
       "      <th>6</th>\n",
       "      <th>7</th>\n",
       "      <th>8</th>\n",
       "    </tr>\n",
       "  </thead>\n",
       "  <tbody>\n",
       "    <tr>\n",
       "      <th>0</th>\n",
       "      <td>18</td>\n",
       "      <td>114</td>\n",
       "      <td>42</td>\n",
       "      <td>136</td>\n",
       "      <td>88</td>\n",
       "      <td>192</td>\n",
       "      <td>3</td>\n",
       "      <td>223</td>\n",
       "    </tr>\n",
       "    <tr>\n",
       "      <th>1</th>\n",
       "      <td>55</td>\n",
       "      <td>29</td>\n",
       "      <td>81</td>\n",
       "      <td>64</td>\n",
       "      <td>14</td>\n",
       "      <td>104</td>\n",
       "      <td>52</td>\n",
       "      <td>222</td>\n",
       "    </tr>\n",
       "    <tr>\n",
       "      <th>2</th>\n",
       "      <td>89</td>\n",
       "      <td>196</td>\n",
       "      <td>18</td>\n",
       "      <td>62</td>\n",
       "      <td>57</td>\n",
       "      <td>34</td>\n",
       "      <td>69</td>\n",
       "      <td>112</td>\n",
       "    </tr>\n",
       "    <tr>\n",
       "      <th>3</th>\n",
       "      <td>34</td>\n",
       "      <td>169</td>\n",
       "      <td>23</td>\n",
       "      <td>152</td>\n",
       "      <td>62</td>\n",
       "      <td>44</td>\n",
       "      <td>2</td>\n",
       "      <td>224</td>\n",
       "    </tr>\n",
       "    <tr>\n",
       "      <th>4</th>\n",
       "      <td>67</td>\n",
       "      <td>145</td>\n",
       "      <td>74</td>\n",
       "      <td>111</td>\n",
       "      <td>87</td>\n",
       "      <td>139</td>\n",
       "      <td>65</td>\n",
       "      <td>243</td>\n",
       "    </tr>\n",
       "  </tbody>\n",
       "</table>\n",
       "</div>"
      ],
      "text/plain": [
       "    1    2   3    4   5    6   7    8\n",
       "0  18  114  42  136  88  192   3  223\n",
       "1  55   29  81   64  14  104  52  222\n",
       "2  89  196  18   62  57   34  69  112\n",
       "3  34  169  23  152  62   44   2  224\n",
       "4  67  145  74  111  87  139  65  243"
      ]
     },
     "execution_count": 3,
     "metadata": {},
     "output_type": "execute_result"
    }
   ],
   "source": [
    "instances = pd.read_csv(file, sep=' ', names=all_headers, usecols=used_cols)\n",
    "instances.head()"
   ]
  },
  {
   "cell_type": "code",
   "execution_count": 4,
   "metadata": {
    "collapsed": false
   },
   "outputs": [
    {
     "data": {
      "text/plain": [
       "[1, 2, 4]"
      ]
     },
     "execution_count": 4,
     "metadata": {},
     "output_type": "execute_result"
    }
   ],
   "source": [
    "[2**x for x in range(3)]"
   ]
  },
  {
   "cell_type": "code",
   "execution_count": 5,
   "metadata": {
    "collapsed": false
   },
   "outputs": [
    {
     "data": {
      "text/plain": [
       "1"
      ]
     },
     "execution_count": 5,
     "metadata": {},
     "output_type": "execute_result"
    }
   ],
   "source": [
    "3 & 5"
   ]
  },
  {
   "cell_type": "code",
   "execution_count": 6,
   "metadata": {
    "collapsed": false
   },
   "outputs": [
    {
     "data": {
      "text/plain": [
       "6"
      ]
     },
     "execution_count": 6,
     "metadata": {},
     "output_type": "execute_result"
    }
   ],
   "source": [
    "sum([1,2,3])"
   ]
  },
  {
   "cell_type": "code",
   "execution_count": 36,
   "metadata": {
    "collapsed": false
   },
   "outputs": [],
   "source": [
    "def bruteforce(n, M, pairs):\n",
    "    keys = list(pairs.keys())\n",
    "    max_num = 2**n - 1\n",
    "    power2 = [2**x for x in range(n)]\n",
    "    \n",
    "    best = -1\n",
    "    max_cost = 0\n",
    "    max_weight = M\n",
    "    final_keys = []\n",
    "    start_time = time.clock()\n",
    "    for i in range(1, max_num + 1):\n",
    "        counter = 0\n",
    "        cur_weight = 0\n",
    "        cur_cost = 0\n",
    "        used_keys = []\n",
    "        \n",
    "#         print(15*'=')\n",
    "#         print('i:', i)\n",
    "#         print(8*'-')\n",
    "        for pow2 in power2:\n",
    "#             print('pow2:', pow2)\n",
    "            if pow2 & i:\n",
    "#                 print('keys[counter]:', keys[counter])\n",
    "                used_keys.append(keys[counter])\n",
    "                cur_weight += keys[counter]\n",
    "                cur_cost += pairs[keys[counter]]\n",
    "            \n",
    "            counter += 1\n",
    "            \n",
    "        if cur_weight <= M and cur_cost > max_cost:\n",
    "#             print('best:', i)\n",
    "#             print('max_cost:', cur_cost)\n",
    "            best = i\n",
    "            max_weight = cur_weight\n",
    "            max_cost = cur_cost\n",
    "            final_keys = used_keys\n",
    "            \n",
    "    end_time = time.clock()\n",
    "    \n",
    "    print(10*'=', 'BRUTEFORCE', 10*'=')\n",
    "    print('elapsed time:', end_time - start_time)\n",
    "    print('pairs:', pairs)\n",
    "    print('keys:', keys)\n",
    "    print('final_keys:', final_keys)\n",
    "    print('M:', M)\n",
    "    print('max_weight:', max_weight)\n",
    "    print('max_cost:', max_cost)\n",
    "    print('best:', best)\n",
    "    \n",
    "    return end_time - start_time\n",
    "\n",
    "def fill_by(n, M, pairs, sorted_keys, sorted_by='cost'):\n",
    "    max_cost = 0\n",
    "    max_weight = 0\n",
    "    final_keys = []\n",
    "    \n",
    "    start_time = time.clock()\n",
    "    for weight in sorted_keys:\n",
    "        if max_weight + weight > M:\n",
    "            break\n",
    "            \n",
    "        max_weight += weight\n",
    "        max_cost += pairs[weight]\n",
    "        final_keys.append(weight)\n",
    "        \n",
    "    end_time = time.clock()\n",
    "    \n",
    "    print(10*'=', 'SORTED BY ' + sorted_by.upper() + 'S', 10*'=')\n",
    "    print('elapsed time:', end_time - start_time)\n",
    "    print('pairs:', pairs)\n",
    "    print('keys:', sorted_keys)\n",
    "    print('final_keys:', final_keys)\n",
    "    print('M:', M)\n",
    "    print('max_weight:', max_weight)\n",
    "    print('max_cost:', max_cost)\n",
    "    \n",
    "    return end_time - start_time"
   ]
  },
  {
   "cell_type": "code",
   "execution_count": 37,
   "metadata": {
    "collapsed": false
   },
   "outputs": [
    {
     "name": "stdout",
     "output_type": "stream",
     "text": [
      "========== BRUTEFORCE ==========\n",
      "elapsed time: 3.3783148410293506e-05\n",
      "pairs: {88: 192, 18: 114, 3: 223, 42: 136}\n",
      "keys: [88, 18, 3, 42]\n",
      "final_keys: [18, 3, 42]\n",
      "M: 100\n",
      "max_weight: 63\n",
      "max_cost: 473\n",
      "best: 14\n",
      "========== SORTED BY COSTS ==========\n",
      "elapsed time: 2.5658086997282226e-06\n",
      "pairs: {88: 192, 18: 114, 3: 223, 42: 136}\n",
      "keys: [3, 88, 42, 18]\n",
      "final_keys: [3, 88]\n",
      "M: 100\n",
      "max_weight: 91\n",
      "max_cost: 415\n",
      "========== SORTED BY WEIGHTS ==========\n",
      "elapsed time: 1.2829041224904358e-06\n",
      "pairs: {88: 192, 18: 114, 3: 223, 42: 136}\n",
      "keys: [88, 42, 18, 3]\n",
      "final_keys: [88]\n",
      "M: 100\n",
      "max_weight: 88\n",
      "max_cost: 192\n",
      "========== SORTED BY PROPORTIONS ==========\n",
      "elapsed time: 2.5658086997282226e-06\n",
      "pairs: {88: 192, 18: 114, 3: 223, 42: 136}\n",
      "keys: [3, 18, 42, 88]\n",
      "final_keys: [3, 18, 42]\n",
      "M: 100\n",
      "max_weight: 63\n",
      "max_cost: 473\n"
     ]
    }
   ],
   "source": [
    "with open('./data/inst/knap_4.inst.dat', 'r') as inst_file:\n",
    "    reader = csv.reader(inst_file, delimiter=' ', skipinitialspace=True)\n",
    "    \n",
    "    bruteforce_time = []\n",
    "    sorted_by_cost_time = []\n",
    "    sorted_by_weight_time = []\n",
    "    sorted_by_prop_time = []\n",
    "    for row in reader:\n",
    "        n = int(row[1])\n",
    "        M = int(row[2])\n",
    "        \n",
    "        pairs = {}\n",
    "        proportion_pairs = {}\n",
    "        for i in range(0, n*2 - 1, 2):\n",
    "            if int(row[i + 3]) in pairs.keys():\n",
    "                print('There is a duplicate key!')\n",
    "                \n",
    "            # pair: weight - cost\n",
    "            pairs[int(row[i + 3])] = int(row[i + 4])\n",
    "            # used proportion: weight/cost\n",
    "            proportion_pairs[int(row[i + 3])] = int(row[i + 3]) / int(row[i + 4])\n",
    "            \n",
    "#         print(pairs)\n",
    "#         print('sort weights by costs in desc order')\n",
    "        weights_by_cost = sorted(pairs, key=pairs.__getitem__, reverse=True)\n",
    "#         print('weights:', weights_by_costs)\n",
    "#         print(8*'-')\n",
    "#         print('sort costs by weights in desc order')\n",
    "#         print('costs:', [value for (key, value) in sorted(pairs.items(), reverse=True)])\n",
    "        weights_by_weight = [key for (key, value) in sorted(pairs.items(), reverse=True)]\n",
    "#         print('weights:', weights_by_weights)\n",
    "#         print(18*'=')\n",
    "        # ascending order\n",
    "        weights_by_proportion = sorted(proportion_pairs, key=proportion_pairs.__getitem__)\n",
    "\n",
    "        bruteforce_time.append(bruteforce(n, M, pairs))\n",
    "        sorted_by_cost_time.append(fill_by(n, M, pairs, weights_by_cost, 'cost'))\n",
    "        sorted_by_weight_time.append(fill_by(n, M, pairs, weights_by_weight, 'weight'))\n",
    "        sorted_by_prop_time.append(fill_by(n, M, pairs, weights_by_proportion, 'proportion'))\n",
    "        break\n",
    "\n",
    "# print(bruteforce_time)"
   ]
  },
  {
   "cell_type": "code",
   "execution_count": 21,
   "metadata": {
    "collapsed": false
   },
   "outputs": [
    {
     "name": "stdout",
     "output_type": "stream",
     "text": [
      "['c', 'b', 'a']\n"
     ]
    },
    {
     "ename": "TypeError",
     "evalue": "unorderable types: int() < list()",
     "output_type": "error",
     "traceback": [
      "\u001b[0;31m---------------------------------------------------------------------------\u001b[0m",
      "\u001b[0;31mTypeError\u001b[0m                                 Traceback (most recent call last)",
      "\u001b[0;32m<ipython-input-21-d780bc3476c1>\u001b[0m in \u001b[0;36m<module>\u001b[0;34m()\u001b[0m\n\u001b[1;32m      1\u001b[0m \u001b[0md\u001b[0m \u001b[1;33m=\u001b[0m \u001b[1;33m{\u001b[0m\u001b[1;34m'a'\u001b[0m\u001b[1;33m:\u001b[0m \u001b[1;36m3\u001b[0m\u001b[1;33m,\u001b[0m \u001b[1;34m'b'\u001b[0m\u001b[1;33m:\u001b[0m \u001b[1;33m[\u001b[0m\u001b[1;36m5\u001b[0m\u001b[1;33m,\u001b[0m\u001b[1;36m2\u001b[0m\u001b[1;33m]\u001b[0m\u001b[1;33m,\u001b[0m \u001b[1;34m'c'\u001b[0m\u001b[1;33m:\u001b[0m \u001b[1;33m[\u001b[0m\u001b[1;36m4\u001b[0m\u001b[1;33m,\u001b[0m\u001b[1;36m6\u001b[0m\u001b[1;33m]\u001b[0m\u001b[1;33m}\u001b[0m\u001b[1;33m\u001b[0m\u001b[0m\n\u001b[1;32m      2\u001b[0m \u001b[0mprint\u001b[0m\u001b[1;33m(\u001b[0m\u001b[1;33m[\u001b[0m\u001b[0mkey\u001b[0m \u001b[1;32mfor\u001b[0m \u001b[1;33m(\u001b[0m\u001b[0mkey\u001b[0m\u001b[1;33m,\u001b[0m \u001b[0mvalue\u001b[0m\u001b[1;33m)\u001b[0m \u001b[1;32min\u001b[0m \u001b[0msorted\u001b[0m\u001b[1;33m(\u001b[0m\u001b[0md\u001b[0m\u001b[1;33m.\u001b[0m\u001b[0mitems\u001b[0m\u001b[1;33m(\u001b[0m\u001b[1;33m)\u001b[0m\u001b[1;33m,\u001b[0m \u001b[0mreverse\u001b[0m\u001b[1;33m=\u001b[0m\u001b[1;32mTrue\u001b[0m\u001b[1;33m)\u001b[0m\u001b[1;33m]\u001b[0m\u001b[1;33m)\u001b[0m\u001b[1;33m\u001b[0m\u001b[0m\n\u001b[0;32m----> 3\u001b[0;31m \u001b[0msorted\u001b[0m\u001b[1;33m(\u001b[0m\u001b[0md\u001b[0m\u001b[1;33m,\u001b[0m \u001b[0mkey\u001b[0m\u001b[1;33m=\u001b[0m\u001b[0md\u001b[0m\u001b[1;33m.\u001b[0m\u001b[0m__getitem__\u001b[0m\u001b[1;33m,\u001b[0m \u001b[0mreverse\u001b[0m\u001b[1;33m=\u001b[0m\u001b[1;32mTrue\u001b[0m\u001b[1;33m)\u001b[0m\u001b[1;33m\u001b[0m\u001b[0m\n\u001b[0m",
      "\u001b[0;31mTypeError\u001b[0m: unorderable types: int() < list()"
     ]
    }
   ],
   "source": [
    "d = {'a': 3, 'b': [5,2], 'c': [4,6]}\n",
    "print([key for (key, value) in sorted(d.items(), reverse=True)])\n",
    "sorted(d, key=d.__getitem__, reverse=True)"
   ]
  },
  {
   "cell_type": "code",
   "execution_count": null,
   "metadata": {
    "collapsed": true
   },
   "outputs": [],
   "source": []
  }
 ],
 "metadata": {
  "anaconda-cloud": {},
  "kernelspec": {
   "display_name": "Python [default]",
   "language": "python",
   "name": "python3"
  },
  "language_info": {
   "codemirror_mode": {
    "name": "ipython",
    "version": 3
   },
   "file_extension": ".py",
   "mimetype": "text/x-python",
   "name": "python",
   "nbconvert_exporter": "python",
   "pygments_lexer": "ipython3",
   "version": "3.5.1"
  }
 },
 "nbformat": 4,
 "nbformat_minor": 1
}
