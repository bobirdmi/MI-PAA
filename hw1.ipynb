{
 "cells": [
  {
   "cell_type": "code",
   "execution_count": 181,
   "metadata": {
    "collapsed": false
   },
   "outputs": [],
   "source": [
    "import pandas as pd\n",
    "import numpy as np\n",
    "import csv\n",
    "import time\n",
    "import pickle\n",
    "\n",
    "import matplotlib.pyplot as plt\n",
    "%matplotlib inline"
   ]
  },
  {
   "cell_type": "code",
   "execution_count": 182,
   "metadata": {
    "collapsed": true
   },
   "outputs": [],
   "source": [
    "def save_to_pickle_file(obj, name):\n",
    "    with open(name + '.pkl', 'wb') as f:\n",
    "        pickle.dump(obj, f, pickle.HIGHEST_PROTOCOL)\n",
    "\n",
    "def load_pickle_file(name):\n",
    "    with open(name + '.pkl', 'rb') as f:\n",
    "        return pickle.load(f)"
   ]
  },
  {
   "cell_type": "code",
   "execution_count": 190,
   "metadata": {
    "collapsed": false
   },
   "outputs": [],
   "source": [
    "def bruteforce(n, M, pairs, print_out=True, repeat_num=1):\n",
    "    keys = list(pairs.keys())\n",
    "    max_num = 2**n - 1\n",
    "    power2 = [2**x for x in range(n)]\n",
    "    \n",
    "#     best = -1\n",
    "#     max_cost = 0\n",
    "#     max_weight = M\n",
    "#     final_keys = []\n",
    "#     start_time = time.clock()\n",
    "    start_time = time.process_time()\n",
    "    \n",
    "    for j in range(repeat_num):\n",
    "        best = -1\n",
    "        max_cost = 0\n",
    "        max_weight = M\n",
    "        final_keys = []\n",
    "        \n",
    "        for i in range(1, max_num + 1):\n",
    "            counter = 0\n",
    "            cur_weight = 0\n",
    "            cur_cost = 0\n",
    "            used_keys = []\n",
    "\n",
    "#             print(15*'=')\n",
    "#             print('i:', i)\n",
    "#             print(8*'-')\n",
    "            for pow2 in power2:\n",
    "#                 print('pow2:', pow2)\n",
    "                if pow2 & i:\n",
    "#                     print('keys[counter]:', keys[counter])\n",
    "                    used_keys.append(keys[counter])\n",
    "                    cur_weight += int(keys[counter])\n",
    "                    cur_cost += pairs[keys[counter]]\n",
    "\n",
    "                counter += 1\n",
    "\n",
    "            if cur_weight <= M and cur_cost > max_cost:\n",
    "#                 print('best:', i)\n",
    "#                 print('max_cost:', cur_cost)\n",
    "                best = i\n",
    "                max_weight = cur_weight\n",
    "                max_cost = cur_cost\n",
    "                final_keys = used_keys\n",
    "            \n",
    "#     end_time = time.clock()\n",
    "    end_time = time.process_time()\n",
    "    \n",
    "    if print_out:\n",
    "        print(10*'=', 'BRUTEFORCE', 10*'=')\n",
    "        print('elapsed time:', (end_time - start_time) / repeat_num)\n",
    "        print('pairs:', pairs)\n",
    "        print('keys:', keys)\n",
    "        print('final_keys:', final_keys)\n",
    "        print('M:', M)\n",
    "        print('max_weight:', max_weight)\n",
    "        print('max_cost:', max_cost)\n",
    "        print('best:', best)\n",
    "    \n",
    "    return (end_time - start_time) / repeat_num\n",
    "\n",
    "def fill_by(n, M, pairs, sorted_keys, sorted_by='cost', print_out=True, repeat_num=1):\n",
    "#     max_cost = 0\n",
    "#     max_weight = 0\n",
    "#     final_keys = []\n",
    "    \n",
    "#     start_time = time.clock()\n",
    "    start_time = time.process_time()\n",
    "    \n",
    "    for i in range(repeat_num):\n",
    "        max_cost = 0\n",
    "        max_weight = 0\n",
    "        final_keys = []\n",
    "        \n",
    "        for weight in sorted_keys:\n",
    "            if max_weight + int(weight) > M:\n",
    "                break\n",
    "\n",
    "            max_weight += int(weight)\n",
    "            max_cost += pairs[weight]\n",
    "            final_keys.append(weight)\n",
    "        \n",
    "#     end_time = time.clock()\n",
    "    end_time = time.process_time()\n",
    "    \n",
    "    if print_out:\n",
    "        print(10*'=', 'SORTED BY ' + sorted_by.upper() + 'S', 10*'=')\n",
    "        print('elapsed time:', (end_time - start_time) / repeat_num)\n",
    "        print('pairs:', pairs)\n",
    "        print('keys:', sorted_keys)\n",
    "        print('final_keys:', final_keys)\n",
    "        print('M:', M)\n",
    "        print('max_weight:', max_weight)\n",
    "        print('max_cost:', max_cost)\n",
    "    \n",
    "    return (end_time - start_time) / repeat_num\n",
    "\n",
    "def measure_time(filename, print_out=True, repeat_brute=1, repeat_other=1):\n",
    "    with open(filename, 'r') as inst_file:\n",
    "        reader = csv.reader(inst_file, delimiter=' ', skipinitialspace=True)\n",
    "\n",
    "        bruteforce_time = []\n",
    "        sorted_by_cost_time = []\n",
    "        sorted_by_weight_time = []\n",
    "        sorted_by_prop_time = []\n",
    "        rel_err = {'prop': []}#, 'cost': [], 'weight': []}\n",
    "        dupl_counter = 1\n",
    "        dupl_counter_delta = 0.00001\n",
    "        for row in reader:\n",
    "            n = int(row[1])\n",
    "            M = int(row[2])\n",
    "\n",
    "            pairs = {}\n",
    "            proportion_pairs = {}\n",
    "            for i in range(0, n*2 - 1, 2):\n",
    "                if int(row[i + 3]) in pairs.keys():\n",
    "                    # duplication found!\n",
    "                    if print_out:\n",
    "                        print(10*'-', 'File:', filename, 'row:', row[0], 'There is a duplicate key!', 10*'-')\n",
    "                    \n",
    "                    new_key = int(row[i + 3]) + dupl_counter*dupl_counter_delta\n",
    "                    \n",
    "                    dupl_counter += 1\n",
    "                else:\n",
    "                    new_key = int(row[i + 3])\n",
    "                    \n",
    "                # pair: weight - cost\n",
    "                pairs[new_key] = int(row[i + 4])\n",
    "                # used proportion: cost/weight\n",
    "                proportion_pairs[new_key] = int(row[i + 4]) / int(row[i + 3])\n",
    "\n",
    "    #         print('sort weights by costs in desc order')\n",
    "#             weights_by_cost = sorted(pairs, key=pairs.__getitem__, reverse=True)\n",
    "    #         print('weights:', weights_by_costs)\n",
    "    #         print(8*'-')\n",
    "    #         print('sort costs by weights in desc order')\n",
    "    #         print('costs:', [value for (key, value) in sorted(pairs.items(), reverse=True)])\n",
    "#             weights_by_weight = [key for (key, value) in sorted(pairs.items())]\n",
    "    #         print('weights:', weights_by_weights)\n",
    "    #         print(18*'=')\n",
    "            # descending order\n",
    "            weights_by_proportion = sorted(proportion_pairs, key=proportion_pairs.__getitem__, reverse=True)\n",
    "\n",
    "            bruteforce_time.append(bruteforce(n, M, pairs, print_out, repeat_brute))\n",
    "#             sorted_by_cost_time.append(fill_by(n, M, pairs, weights_by_cost, 'cost', print_out))\n",
    "#             sorted_by_weight_time.append(fill_by(n, M, pairs, weights_by_weight, 'weight', print_out))\n",
    "            sorted_by_prop_time.append(\n",
    "                fill_by(n, M, pairs, weights_by_proportion, 'proportion', print_out, repeat_other)\n",
    "            )\n",
    "\n",
    "#             rel_err['cost'].append((bruteforce_time[-1] - sorted_by_cost_time[-1]) / bruteforce_time[-1])\n",
    "#             rel_err['weight'].append((bruteforce_time[-1] - sorted_by_weight_time[-1]) / bruteforce_time[-1])\n",
    "            rel_err['prop'].append((bruteforce_time[-1] - sorted_by_prop_time[-1]) / bruteforce_time[-1])\n",
    "#             break\n",
    "\n",
    "#     return bruteforce_time, sorted_by_cost_time, sorted_by_weight_time, sorted_by_prop_time, rel_err\n",
    "    return bruteforce_time, sorted_by_prop_time, rel_err"
   ]
  },
  {
   "cell_type": "code",
   "execution_count": 220,
   "metadata": {
    "collapsed": false
   },
   "outputs": [],
   "source": [
    "# n_list = [4,10,15,20,22,25,27,30,32,35,37,40]\n",
    "n_list = [20,22]\n",
    "\n",
    "# repeat_brute = [1000,10] + (len(n_list) - 2)*[1]\n",
    "repeat_brute = 1\n",
    "# repeat_other = []\n",
    "repeat_other = 15000\n",
    "\n",
    "file_template = './data/inst/knap_{}.inst.dat'\n",
    "# dictn = {}\n",
    "    \n",
    "# for n, rep_brute in zip(n_list, repeat_brute):\n",
    "for n in n_list:\n",
    "    dictn[n] = list(measure_time(\n",
    "                    file_template.format(n), print_out=False, \n",
    "                    repeat_brute=repeat_brute, repeat_other=repeat_other)\n",
    "#                     repeat_brute=rep_brute, repeat_other=repeat_other)\n",
    "                   )"
   ]
  },
  {
   "cell_type": "code",
   "execution_count": 224,
   "metadata": {
    "collapsed": true
   },
   "outputs": [
    {
     "data": {
      "text/plain": [
       "{'prop': [0.9999589743589744,\n",
       "  0.9999641025641026,\n",
       "  0.9999611111111112,\n",
       "  0.9999555555555556,\n",
       "  0.9999611111111112,\n",
       "  0.9999555555555556,\n",
       "  0.9999589743589744,\n",
       "  0.9999641025641026,\n",
       "  0.9999555555555556,\n",
       "  0.9999555555555556,\n",
       "  0.9999555555555556,\n",
       "  0.9999538461538461,\n",
       "  0.9999611111111112,\n",
       "  0.9999692307692307,\n",
       "  0.9999555555555556,\n",
       "  0.9999641025641026,\n",
       "  0.9999641025641026,\n",
       "  0.9999611111111112,\n",
       "  0.9999589743589744,\n",
       "  0.9999555555555556,\n",
       "  0.9999692307692307,\n",
       "  0.9999589743589744,\n",
       "  0.99995,\n",
       "  0.9999555555555556,\n",
       "  0.99995,\n",
       "  0.99995,\n",
       "  0.9999523809523809,\n",
       "  0.9999611111111112,\n",
       "  0.9999589743589744,\n",
       "  0.9999589743589744,\n",
       "  0.9999611111111112,\n",
       "  0.9999555555555556,\n",
       "  0.9999641025641026,\n",
       "  0.9999555555555556,\n",
       "  0.9999641025641026,\n",
       "  0.9999555555555556,\n",
       "  0.9999641025641026,\n",
       "  0.9999641025641026,\n",
       "  0.9999589743589744,\n",
       "  0.9999555555555556,\n",
       "  0.9999555555555556,\n",
       "  0.9999555555555556,\n",
       "  0.9999555555555556,\n",
       "  0.9999611111111112,\n",
       "  0.9999555555555556,\n",
       "  0.9999589743589744,\n",
       "  0.9999555555555556,\n",
       "  0.9999611111111112,\n",
       "  0.9999555555555556,\n",
       "  0.99995]}"
      ]
     },
     "execution_count": 224,
     "metadata": {},
     "output_type": "execute_result"
    }
   ],
   "source": [
    "dictn[15][2]"
   ]
  },
  {
   "cell_type": "code",
   "execution_count": 225,
   "metadata": {
    "collapsed": true
   },
   "outputs": [],
   "source": [
    "result_file = 'result'\n",
    "save_to_pickle_file(dictn, result_file)\n",
    "# load_pickle_file(result_file)"
   ]
  },
  {
   "cell_type": "code",
   "execution_count": 228,
   "metadata": {
    "collapsed": true
   },
   "outputs": [
    {
     "data": {
      "text/plain": [
       "{'prop': [0.9999589743589744,\n",
       "  0.9999641025641026,\n",
       "  0.9999611111111112,\n",
       "  0.9999555555555556,\n",
       "  0.9999611111111112,\n",
       "  0.9999555555555556,\n",
       "  0.9999589743589744,\n",
       "  0.9999641025641026,\n",
       "  0.9999555555555556,\n",
       "  0.9999555555555556,\n",
       "  0.9999555555555556,\n",
       "  0.9999538461538461,\n",
       "  0.9999611111111112,\n",
       "  0.9999692307692307,\n",
       "  0.9999555555555556,\n",
       "  0.9999641025641026,\n",
       "  0.9999641025641026,\n",
       "  0.9999611111111112,\n",
       "  0.9999589743589744,\n",
       "  0.9999555555555556,\n",
       "  0.9999692307692307,\n",
       "  0.9999589743589744,\n",
       "  0.99995,\n",
       "  0.9999555555555556,\n",
       "  0.99995,\n",
       "  0.99995,\n",
       "  0.9999523809523809,\n",
       "  0.9999611111111112,\n",
       "  0.9999589743589744,\n",
       "  0.9999589743589744,\n",
       "  0.9999611111111112,\n",
       "  0.9999555555555556,\n",
       "  0.9999641025641026,\n",
       "  0.9999555555555556,\n",
       "  0.9999641025641026,\n",
       "  0.9999555555555556,\n",
       "  0.9999641025641026,\n",
       "  0.9999641025641026,\n",
       "  0.9999589743589744,\n",
       "  0.9999555555555556,\n",
       "  0.9999555555555556,\n",
       "  0.9999555555555556,\n",
       "  0.9999555555555556,\n",
       "  0.9999611111111112,\n",
       "  0.9999555555555556,\n",
       "  0.9999589743589744,\n",
       "  0.9999555555555556,\n",
       "  0.9999611111111112,\n",
       "  0.9999555555555556,\n",
       "  0.99995]}"
      ]
     },
     "execution_count": 228,
     "metadata": {},
     "output_type": "execute_result"
    }
   ],
   "source": [
    "load_pickle_file(result_file)[15][2]"
   ]
  },
  {
   "cell_type": "code",
   "execution_count": 189,
   "metadata": {
    "collapsed": false
   },
   "outputs": [
    {
     "data": {
      "text/plain": [
       "[3.125e-05]"
      ]
     },
     "execution_count": 189,
     "metadata": {},
     "output_type": "execute_result"
    }
   ],
   "source": [
    "dictn[4][0]"
   ]
  },
  {
   "cell_type": "code",
   "execution_count": 95,
   "metadata": {
    "collapsed": false
   },
   "outputs": [
    {
     "name": "stdout",
     "output_type": "stream",
     "text": [
      "922.3125\n"
     ]
    }
   ],
   "source": [
    "print(time.process_time())"
   ]
  },
  {
   "cell_type": "code",
   "execution_count": null,
   "metadata": {
    "collapsed": true
   },
   "outputs": [],
   "source": []
  },
  {
   "cell_type": "code",
   "execution_count": 17,
   "metadata": {
    "collapsed": false
   },
   "outputs": [
    {
     "name": "stdout",
     "output_type": "stream",
     "text": [
      "[2.56580872246559e-05, 2.3947548015712528e-05, 2.3519913213476684e-05, 2.3519913213476684e-05, 2.2664643665848416e-05, 2.3519913270320103e-05, 2.993443507648408e-05, 2.3519913270320103e-05, 2.2237008863612573e-05, 2.2237008863612573e-05, 2.309227841124084e-05, 2.2237008863612573e-05, 2.309227846808426e-05, 2.309227846808426e-05, 2.309227846808426e-05, 2.2237008863612573e-05, 2.2237008863612573e-05, 2.2237008863612573e-05, 2.2237008863612573e-05, 2.180937411822015e-05, 2.2237008920455992e-05, 2.309227846808426e-05, 2.2664643665848416e-05, 2.5230452422420058e-05, 2.2664643665848416e-05, 2.2664643665848416e-05, 2.309227841124084e-05, 2.2664643665848416e-05, 2.2664643722691835e-05, 2.309227841124084e-05, 2.2664643665848416e-05, 2.309227846808426e-05, 2.3519913270320103e-05, 2.309227846808426e-05, 2.437518281794837e-05, 2.3519913270320103e-05, 4.7895096031425055e-05, 2.3519913270320103e-05, 2.2237008863612573e-05, 2.309227846808426e-05, 2.309227841124084e-05, 2.309227846808426e-05, 2.309227846808426e-05, 2.3519913213476684e-05, 2.309227846808426e-05, 2.2664643665848416e-05, 2.309227846808426e-05, 2.3519913270320103e-05, 2.3519913213476684e-05, 2.437518281794837e-05]\n"
     ]
    }
   ],
   "source": [
    "print(bruteforce_time)"
   ]
  },
  {
   "cell_type": "code",
   "execution_count": 18,
   "metadata": {
    "collapsed": false
   },
   "outputs": [
    {
     "data": {
      "text/plain": [
       "50"
      ]
     },
     "execution_count": 18,
     "metadata": {},
     "output_type": "execute_result"
    }
   ],
   "source": [
    "len(bruteforce_time)"
   ]
  },
  {
   "cell_type": "code",
   "execution_count": 27,
   "metadata": {
    "collapsed": false
   },
   "outputs": [
    {
     "data": {
      "text/plain": [
       "[<matplotlib.lines.Line2D at 0x9ab788dba8>,\n",
       " <matplotlib.lines.Line2D at 0x9ab788dd68>]"
      ]
     },
     "execution_count": 27,
     "metadata": {},
     "output_type": "execute_result"
    },
    {
     "data": {
      "image/png": "[encoded data removed]",
      "text/plain": [
       "<matplotlib.figure.Figure at 0x9ab602ab00>"
      ]
     },
     "metadata": {},
     "output_type": "display_data"
    }
   ],
   "source": [
    "plt.plot(range(50), rel_err['cost'], 'b', range(50), rel_err['prop'], 'r')"
   ]
  },
  {
   "cell_type": "code",
   "execution_count": null,
   "metadata": {
    "collapsed": true
   },
   "outputs": [],
   "source": []
  }
 ],
 "metadata": {
  "anaconda-cloud": {},
  "kernelspec": {
   "display_name": "Python [default]",
   "language": "python",
   "name": "python3"
  },
  "language_info": {
   "codemirror_mode": {
    "name": "ipython",
    "version": 3
   },
   "file_extension": ".py",
   "mimetype": "text/x-python",
   "name": "python",
   "nbconvert_exporter": "python",
   "pygments_lexer": "ipython3",
   "version": "3.5.1"
  }
 },
 "nbformat": 4,
 "nbformat_minor": 1
}
